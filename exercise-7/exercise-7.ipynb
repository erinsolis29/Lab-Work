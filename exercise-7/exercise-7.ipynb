{
 "cells": [
  {
   "cell_type": "code",
   "execution_count": 2,
   "metadata": {
    "collapsed": true
   },
   "outputs": [],
   "source": [
    "# read in the file and make dictionaries of DBH at each census\n",
    "\n",
    "in_file = open(\"/home/eeb177-student/Desktop/eeb-177/Class-Work/classwork-21-Feb/cocoli.txt\")\n",
    "sizes_94 = {}\n",
    "sizes_97 = {}\n",
    "sizes_98 = {}\n",
    "\n",
    "#get rid of the header row\n",
    "in_file.readline()\n",
    "\n",
    "#work on subsequent data\n",
    "for line in in_file:\n",
    "    items = line.split()\n",
    "    #retrieve relevant columns\n",
    "    tree_id = items[0]\n",
    "    s94 = float(items[4])\n",
    "    s97 = float(items[5])\n",
    "    s98 = float(items[6])\n",
    "    \n",
    "    #populate our dictionaries\n",
    "    sizes_94[tree_id] = s94\n",
    "    sizes_97[tree_id] = s97\n",
    "    sizes_98[tree_id] = s98\n",
    "\n",
    "in_file.close()"
   ]
  },
  {
   "cell_type": "code",
   "execution_count": 6,
   "metadata": {
    "collapsed": false
   },
   "outputs": [],
   "source": [
    "#sizes_94"
   ]
  },
  {
   "cell_type": "code",
   "execution_count": 3,
   "metadata": {
    "collapsed": true
   },
   "outputs": [],
   "source": [
    "import matplotlib.pyplot as plt\n",
    "\n",
    "#let's make a histogram of DBHs in 1994\n",
    "#matplotlib works on lists so we need to convert the dictionary value to a list\n",
    "sizes_in_1994 = list(sizes_94.values())"
   ]
  },
  {
   "cell_type": "code",
   "execution_count": 11,
   "metadata": {
    "collapsed": false
   },
   "outputs": [],
   "source": [
    "#sizes_in_1994"
   ]
  },
  {
   "cell_type": "code",
   "execution_count": 4,
   "metadata": {
    "collapsed": false
   },
   "outputs": [
    {
     "data": {
      "image/png": "[encoded data removed]",
      "text/plain": [
       "<matplotlib.figure.Figure at 0x7f789b69de48>"
      ]
     },
     "metadata": {},
     "output_type": "display_data"
    }
   ],
   "source": [
    "plt.hist(sizes_in_1994, log = True)\n",
    "plt.show()"
   ]
  },
  {
   "cell_type": "code",
   "execution_count": 14,
   "metadata": {
    "collapsed": false
   },
   "outputs": [
    {
     "data": {
      "image/png": "[encoded data removed]",
      "text/plain": [
       "<matplotlib.figure.Figure at 0x7f67a9cbe748>"
      ]
     },
     "metadata": {},
     "output_type": "display_data"
    }
   ],
   "source": [
    "sizes_in_1994 = list(sizes_94.values())\n",
    "sizes_in_1998 = list(sizes_98.values())\n",
    "\n",
    "f, (ax1, ax2) = plt.subplots(1, 2, sharex = True, sharey = True)\n",
    "ax1.hist(sizes_in_1994, log = True)\n",
    "ax1.set_title('Hist in 1994')\n",
    "ax2.hist(sizes_in_1998, log = True)\n",
    "ax2.set_title('Hist in 1998')\n",
    "plt.show()\n",
    "#big trees disappear in the 1998 plot"
   ]
  },
  {
   "cell_type": "code",
   "execution_count": 16,
   "metadata": {
    "collapsed": false
   },
   "outputs": [],
   "source": [
    "#sizes_in_1994[:] = (value for value in sizes_in_1994 if value != -2)\n",
    "# for each value in sizes_in_1994, if the value is not -2, then return the value and put the returned values into the list\n",
    "#sizes_in_1994"
   ]
  },
  {
   "cell_type": "code",
   "execution_count": 18,
   "metadata": {
    "collapsed": false,
    "scrolled": true
   },
   "outputs": [
    {
     "data": {
      "image/png": "[encoded data removed]",
      "text/plain": [
       "<matplotlib.figure.Figure at 0x7f67a97959b0>"
      ]
     },
     "metadata": {},
     "output_type": "display_data"
    }
   ],
   "source": [
    "plt.hist(sizes_in_1994)\n",
    "plt.show()\n",
    "#has the new list wihtout neg 2 values"
   ]
  },
  {
   "cell_type": "code",
   "execution_count": 5,
   "metadata": {
    "collapsed": false
   },
   "outputs": [
    {
     "data": {
      "image/png": "[encoded data removed]",
      "text/plain": [
       "<matplotlib.figure.Figure at 0x7f7897071630>"
      ]
     },
     "metadata": {},
     "output_type": "display_data"
    }
   ],
   "source": [
    "sizes_in_1994 = list(sizes_94.values())\n",
    "sizes_in_1998 = list(sizes_98.values())\n",
    "\n",
    "plt.plot([sizes_in_1994], [sizes_in_1998], 'ro')\n",
    "plt.show()"
   ]
  },
  {
   "cell_type": "code",
   "execution_count": null,
   "metadata": {
    "collapsed": true
   },
   "outputs": [],
   "source": []
  }
 ],
 "metadata": {
  "anaconda-cloud": {},
  "kernelspec": {
   "display_name": "Python [conda root]",
   "language": "python",
   "name": "conda-root-py"
  },
  "language_info": {
   "codemirror_mode": {
    "name": "ipython",
    "version": 3
   },
   "file_extension": ".py",
   "mimetype": "text/x-python",
   "name": "python",
   "nbconvert_exporter": "python",
   "pygments_lexer": "ipython3",
   "version": "3.5.2"
  }
 },
 "nbformat": 4,
 "nbformat_minor": 2
}
