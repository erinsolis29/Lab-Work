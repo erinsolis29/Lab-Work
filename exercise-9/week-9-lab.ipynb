{
 "cells": [
  {
   "cell_type": "markdown",
   "metadata": {},
   "source": [
    "##### 1. How many fossils are included in this dataset?\n",
    "2947\n",
    "\n",
    "##### 2. How many fossils have been identified to genus-level only? How many to species-level?\n",
    "614 genus only, 2107 species only\n",
    "\n",
    "##### 3. How many unique accepted names are part of this dataset?\n",
    "212"
   ]
  },
  {
   "cell_type": "markdown",
   "metadata": {},
   "source": [
    "##### 1. How can we change the sampling frequency of our PyRate run?\n",
    "-s 1000\n",
    "\n",
    "##### 2. What does the -n flag achieve?\n",
    "changes mcmc generations"
   ]
  },
  {
   "cell_type": "markdown",
   "metadata": {},
   "source": [
    "##### canid_occ_1_marginal_rates.log\n",
    "Tab-separated table with the posterior samples of the marginal rates of speciation, extinction, and net diversification, calculated within 1 time unit (typically Myr). \n",
    "\n",
    "##### canid_occ_1_mcmc.log\n",
    "Tab-separated table with the MCMC samples of the posterior, prior, likelihoods of the preservation process and of the birth-death (indicated by PP_lik and BD_lik, respectively), the preservation rate (q_rate), the shape parameter of its gamma-distributed heterogeneity (alpha), the number of sampled rate shifts (k_birth, k_death), the time of origin of the oldest lineage (root_age), the total branch length (tot_length), and the times of speciation and extinction of all taxa in the data set (\\_TS* and \\_TE, respectively). When using the TPP model of preservation, the preservation rates between shifts are indicated as *q_0, q_1, ... q_n (from older to younger).\n",
    "\n",
    "##### canid_occ_1_sum.txt\n",
    "Tab-separated table with the posterior samples of the marginal rates of speciation, extinction, and net diversification, calculated within 1 time unit (typically Myr). \n"
   ]
  },
  {
   "cell_type": "markdown",
   "metadata": {
    "collapsed": true
   },
   "source": [
    "## Homework Question 1\n",
    "\n",
    "Note that for the homework, I ony ran the code 500,000 times because my computer is REALLY REALLY slow. It took 5.5 hours to do the 500,000 runs. "
   ]
  },
  {
   "cell_type": "markdown",
   "metadata": {},
   "source": [
    "##### a. Describe the changes in speciation rates\n",
    "\n",
    "The speciation rate was nearly constant until about 30 Ma at about 0.27, when it started decreasing stepwise. This trend continued until about 5 Ma. At that time, the speciation rate spiked back up to around 0.26 and has maintained this level until now. "
   ]
  },
  {
   "cell_type": "markdown",
   "metadata": {},
   "source": [
    "##### b. Describe the changes in extinction rates\n",
    "\n",
    "From about 50 Ma to about 1 Ma, the extinction rates across the Canidae lineage remained fairly constant at around 0.1-0.2. However, about 1 Ma, the extinction rate rapidly spiked to a really high rate of 1.2 and is still at that level currently. "
   ]
  },
  {
   "cell_type": "markdown",
   "metadata": {},
   "source": [
    "##### c. Describe the changes in Diversification rates\n",
    "\n",
    "From around 50 Ma to around 30 Ma, the diversification rates were positive at a value of approximately 0.2. At around 30 Ma, the diversification rates began to decrease, becoming negative (a value of about -0.05) from about 20 Ma to 10 Ma. At about 10 Ma, the diversification rate rose to about 0.1 and remained at that level until about 5 Ma. At that point, the diversification rate sharply dropped to a value of about -0.9 and has been that way ever since. This means that the Canidae lineage is seeing a reduction rather than a gain in diversity. "
   ]
  },
  {
   "cell_type": "code",
   "execution_count": null,
   "metadata": {
    "collapsed": true
   },
   "outputs": [],
   "source": []
  }
 ],
 "metadata": {
  "anaconda-cloud": {},
  "kernelspec": {
   "display_name": "Python [conda root]",
   "language": "python",
   "name": "conda-root-py"
  },
  "language_info": {
   "codemirror_mode": {
    "name": "ipython",
    "version": 3
   },
   "file_extension": ".py",
   "mimetype": "text/x-python",
   "name": "python",
   "nbconvert_exporter": "python",
   "pygments_lexer": "ipython3",
   "version": "3.5.2"
  }
 },
 "nbformat": 4,
 "nbformat_minor": 2
}
