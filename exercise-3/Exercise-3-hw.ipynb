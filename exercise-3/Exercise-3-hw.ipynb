{
 "cells": [
  {
   "cell_type": "code",
   "execution_count": 1,
   "metadata": {
    "collapsed": false
   },
   "outputs": [
    {
     "data": {
      "text/plain": [
       "3"
      ]
     },
     "execution_count": 1,
     "metadata": {},
     "output_type": "execute_result"
    }
   ],
   "source": [
    "#Question 2\n",
    "a = 3\n",
    "b = 17\n",
    "c = a + b\n",
    "\n",
    "favorite_animal = \"penguin\"\n",
    "favorite_dinners = [\"pasta\", \"steak\", \"mac&cheese\"]\n",
    "\n",
    "num_fav_dinners = len(favorite_dinners)\n",
    "\n",
    "num_fav_dinners"
   ]
  },
  {
   "cell_type": "code",
   "execution_count": 3,
   "metadata": {
    "collapsed": false
   },
   "outputs": [
    {
     "name": "stdout",
     "output_type": "stream",
     "text": [
      "What a pleasant temperature!\n"
     ]
    },
    {
     "ename": "TypeError",
     "evalue": "unorderable types: str() < int()",
     "output_type": "error",
     "traceback": [
      "\u001b[0;31m---------------------------------------------------------------------------\u001b[0m",
      "\u001b[0;31mTypeError\u001b[0m                                 Traceback (most recent call last)",
      "\u001b[0;32m<ipython-input-3-ad867a43c90c>\u001b[0m in \u001b[0;36m<module>\u001b[0;34m()\u001b[0m\n\u001b[1;32m      9\u001b[0m \u001b[0;34m\u001b[0m\u001b[0m\n\u001b[1;32m     10\u001b[0m \u001b[0mhw3_function\u001b[0m\u001b[0;34m(\u001b[0m\u001b[0;36m17\u001b[0m\u001b[0;34m)\u001b[0m\u001b[0;34m\u001b[0m\u001b[0m\n\u001b[0;32m---> 11\u001b[0;31m \u001b[0mhw3_function\u001b[0m\u001b[0;34m(\u001b[0m\u001b[0;34m\"duck\"\u001b[0m\u001b[0;34m)\u001b[0m\u001b[0;34m\u001b[0m\u001b[0m\n\u001b[0m",
      "\u001b[0;32m<ipython-input-3-ad867a43c90c>\u001b[0m in \u001b[0;36mhw3_function\u001b[0;34m(x)\u001b[0m\n\u001b[1;32m      1\u001b[0m \u001b[0;31m#Question 3\u001b[0m\u001b[0;34m\u001b[0m\u001b[0;34m\u001b[0m\u001b[0m\n\u001b[1;32m      2\u001b[0m \u001b[0;32mdef\u001b[0m \u001b[0mhw3_function\u001b[0m\u001b[0;34m(\u001b[0m\u001b[0mx\u001b[0m\u001b[0;34m)\u001b[0m\u001b[0;34m:\u001b[0m\u001b[0;34m\u001b[0m\u001b[0m\n\u001b[0;32m----> 3\u001b[0;31m     \u001b[0;32mif\u001b[0m \u001b[0mx\u001b[0m \u001b[0;34m<\u001b[0m \u001b[0;36m5\u001b[0m\u001b[0;34m:\u001b[0m\u001b[0;34m\u001b[0m\u001b[0m\n\u001b[0m\u001b[1;32m      4\u001b[0m         \u001b[0mprint\u001b[0m\u001b[0;34m(\u001b[0m\u001b[0;34m\"Brr! It's cold!\"\u001b[0m\u001b[0;34m)\u001b[0m\u001b[0;34m\u001b[0m\u001b[0m\n\u001b[1;32m      5\u001b[0m     \u001b[0;32melif\u001b[0m \u001b[0mx\u001b[0m \u001b[0;34m>\u001b[0m \u001b[0;36m25\u001b[0m\u001b[0;34m:\u001b[0m\u001b[0;34m\u001b[0m\u001b[0m\n",
      "\u001b[0;31mTypeError\u001b[0m: unorderable types: str() < int()"
     ]
    }
   ],
   "source": [
    "#Question 3\n",
    "def hw3_function(x):\n",
    "    if x < 5:\n",
    "        print(\"Brr! It's cold!\")\n",
    "    elif x > 25:    \n",
    "        print(\"It's pretty warm!\")\n",
    "    else:\n",
    "        print(\"What a pleasant temperature!\")\n",
    "        \n",
    "hw3_function(17)\n",
    "hw3_function(\"duck\")"
   ]
  },
  {
   "cell_type": "code",
   "execution_count": 3,
   "metadata": {
    "collapsed": false
   },
   "outputs": [
    {
     "name": "stdout",
     "output_type": "stream",
     "text": [
      "[]\n"
     ]
    }
   ],
   "source": [
    "#Question 4\n",
    "import re\n",
    "DNA = \"ATAATTAACGGAGCTTATTA\"\n",
    "\n",
    "print(re.findall(pattern=\"G[AT][AT]G[ATGC]\", string = DNA))\n"
   ]
  },
  {
   "cell_type": "code",
   "execution_count": 5,
   "metadata": {
    "collapsed": false
   },
   "outputs": [
    {
     "name": "stdout",
     "output_type": "stream",
     "text": [
      "You picked rock; Computer picked paper; +1 for Computer!\n",
      "Please select either rock, paper, or scissors.\n"
     ]
    }
   ],
   "source": [
    "#Question 5\n",
    "import random\n",
    "def rps(user_choice):\n",
    "    computer_choice = random.choice([\"rock\", \"paper\", \"scissors\"])\n",
    "    if (user_choice != \"rock\" and user_choice != \"paper\" and user_choice != \"scissors\"):\n",
    "        print(\"Please select either rock, paper, or scissors.\")\n",
    "    elif (user_choice == computer_choice):\n",
    "        print(\"You picked \" + user_choice + \"; Computer picked \" + computer_choice + \"; This is a tie!\")\n",
    "    elif (user_choice == \"rock\"):\n",
    "        if (computer_choice == \"paper\"):\n",
    "            print(\"You picked \" + user_choice + \"; Computer picked \" + computer_choice + \"; +1 for Computer!\")\n",
    "        else:\n",
    "            print(\"You picked \" + user_choice + \"; Computer picked \" + computer_choice + \"; +1 for you!\")\n",
    "    elif (user_choice == \"paper\"):\n",
    "        if (computer_choice == \"rock\"):\n",
    "            print(\"You picked \" + user_choice + \"; Computer picked \" + computer_choice + \"; +1 for you!\")\n",
    "        else:\n",
    "            print(\"You picked \" + user_choice + \"; Computer picked \" + computer_choice + \"; +1 for Computer!\")\n",
    "    elif (user_choice == \"scissors\"):\n",
    "        if (computer_choice == \"rock\"):\n",
    "            print(\"You picked \" + user_choice + \"; Computer picked \" + computer_choice + \"; +1 for Computer!\")\n",
    "        else:\n",
    "            print(\"You picked \" + user_choice + \"; Computer picked \" + computer_choice + \"; +1 for you!\")\n",
    "            \n",
    "rps(\"rock\")            \n",
    "rps(\"a\")        "
   ]
  },
  {
   "cell_type": "code",
   "execution_count": null,
   "metadata": {
    "collapsed": true
   },
   "outputs": [],
   "source": []
  }
 ],
 "metadata": {
  "anaconda-cloud": {},
  "kernelspec": {
   "display_name": "Python [conda root]",
   "language": "python",
   "name": "conda-root-py"
  },
  "language_info": {
   "codemirror_mode": {
    "name": "ipython",
    "version": 3
   },
   "file_extension": ".py",
   "mimetype": "text/x-python",
   "name": "python",
   "nbconvert_exporter": "python",
   "pygments_lexer": "ipython3",
   "version": "3.5.2"
  }
 },
 "nbformat": 4,
 "nbformat_minor": 2
}
